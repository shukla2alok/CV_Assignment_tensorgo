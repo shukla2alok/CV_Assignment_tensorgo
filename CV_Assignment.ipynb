{
  "cells": [
    {
      "cell_type": "code",
      "execution_count": null,
      "metadata": {
        "colab": {
          "base_uri": "https://localhost:8080/"
        },
        "id": "t7HIuxM1qo7Z",
        "outputId": "b8781ea2-c81d-4658-ac44-310828a60278"
      },
      "outputs": [],
      "source": [
        "# Install easyocr\n",
        "!pip install easyocr"
      ]
    },
    {
      "cell_type": "code",
      "execution_count": 7,
      "metadata": {
        "id": "kd7PqobxtOhA"
      },
      "outputs": [],
      "source": [
        "import easyocr\n",
        "import cv2\n",
        "import matplotlib.pyplot as plt\n",
        "import time"
      ]
    },
    {
      "cell_type": "markdown",
      "metadata": {
        "id": "uhlhv88415ul"
      },
      "source": [
        "## Using GPU"
      ]
    },
    {
      "cell_type": "code",
      "execution_count": null,
      "metadata": {
        "colab": {
          "base_uri": "https://localhost:8080/",
          "height": 1000
        },
        "id": "t5OqAdr0rEPP",
        "outputId": "992aa06d-7bcc-4fde-e227-423e19a9e2fd"
      },
      "outputs": [],
      "source": [
        "# Initialize easyocr reader with GPU\n",
        "reader = easyocr.Reader(['en'], gpu=True)\n",
        "\n",
        "# Read the video file\n",
        "video_path = '/content/sample_data/WhatsApp Video 2024-10-11 at 17.20.27_3339e0f0.mp4'\n",
        "cap = cv2.VideoCapture(video_path)\n",
        "\n",
        "correct_text_predictions = 0\n",
        "total_text_predictions = 0\n",
        "\n",
        "# Process every frame\n",
        "frame_rate = 1  # Process every frame on GPU\n",
        "frame_count = 0\n",
        "\n",
        "# Measure time\n",
        "start_time = time.time()\n",
        "\n",
        "while cap.isOpened():\n",
        "    ret, frame = cap.read()\n",
        "\n",
        "    if not ret:\n",
        "        break\n",
        "\n",
        "    # Process every frame (no frame skipping)\n",
        "    if frame_count % frame_rate == 0:\n",
        "        text_ = reader.readtext(frame)\n",
        "\n",
        "        for bbox, text, score in text_:\n",
        "          total_text_predictions += 1\n",
        "          if score > 0.25:\n",
        "            correct_text_predictions += 1\n",
        "            top_left = (int(bbox[0][0]), int(bbox[0][1]))\n",
        "            bottom_right = (int(bbox[2][0]), int(bbox[2][1]))\n",
        "            cv2.rectangle(frame, top_left, bottom_right, (0, 255, 0), 2)\n",
        "\n",
        "            org = (int(bbox[0][0]), int(bbox[0][1]) - 5)\n",
        "            cv2.putText(frame, text, org, cv2.FONT_HERSHEY_SIMPLEX, 0.75, (0, 0, 255), 2)\n",
        "\n",
        "        plt.imshow(cv2.cvtColor(frame, cv2.COLOR_BGR2RGB))\n",
        "        plt.show()\n",
        "\n",
        "    frame_count += 1\n",
        "\n",
        "end_time = time.time()\n",
        "\n",
        "elapsed_time = end_time - start_time\n",
        "print(f\"Elapsed time: {elapsed_time} seconds\")\n",
        "\n",
        "gpu_fps = frame_count / elapsed_time\n",
        "print(f\"Frame rate: {gpu_fps} frames per second\")\n",
        "\n",
        "gpu_accuracy = correct_text_predictions / total_text_predictions\n",
        "print(f\"Accuracy: {gpu_accuracy}\")\n"
      ]
    },
    {
      "cell_type": "markdown",
      "metadata": {
        "id": "V7DlM__f1j3e"
      },
      "source": [
        "# Using CPU\n",
        "## Technique: Skipping the frames"
      ]
    },
    {
      "cell_type": "code",
      "execution_count": null,
      "metadata": {
        "colab": {
          "base_uri": "https://localhost:8080/",
          "height": 1000
        },
        "id": "N0Lv4lU4z8ya",
        "outputId": "1ecd0fbd-72d2-4027-f459-e04dc9eff97b"
      },
      "outputs": [],
      "source": [
        "# Using cpu\n",
        "\n",
        "# The technique: Skipping the frames\n",
        "\n",
        "\n",
        "# Initialize easyocr reader with GPU\n",
        "reader = easyocr.Reader(['en'], gpu=False)\n",
        "\n",
        "# Read the video file\n",
        "video_path = '/content/sample_data/WhatsApp Video 2024-10-11 at 17.20.27_3339e0f0.mp4'\n",
        "cap = cv2.VideoCapture(video_path)\n",
        "\n",
        "\n",
        "correct_text_predictions = 0\n",
        "total_text_predictions = 0\n",
        "\n",
        "# Process every frame\n",
        "frame_rate = 10  # Can be adjusted\n",
        "frame_count = 0\n",
        "\n",
        "# Measure time\n",
        "start_time = time.time()\n",
        "\n",
        "while cap.isOpened():\n",
        "    ret, frame = cap.read()\n",
        "\n",
        "    if not ret:\n",
        "        break\n",
        "\n",
        "    # Process every 10th frame\n",
        "    if frame_count % frame_rate == 0:\n",
        "        text_ = reader.readtext(frame)\n",
        "\n",
        "        for bbox, text, score in text_:\n",
        "          total_text_predictions += 1\n",
        "          if score > 0.25:  # Filter predictions with score threshold\n",
        "            correct_text_predictions += 1\n",
        "            top_left = (int(bbox[0][0]), int(bbox[0][1]))\n",
        "            bottom_right = (int(bbox[2][0]), int(bbox[2][1]))\n",
        "            cv2.rectangle(frame, top_left, bottom_right, (0, 255, 0), 2)\n",
        "\n",
        "            org = (int(bbox[0][0]), int(bbox[0][1]) - 5)\n",
        "            cv2.putText(frame, text, org, cv2.FONT_HERSHEY_SIMPLEX, 0.75, (0, 0, 255), 2)\n",
        "\n",
        "        plt.imshow(cv2.cvtColor(frame, cv2.COLOR_BGR2RGB))\n",
        "        plt.show()\n",
        "\n",
        "    frame_count += 1\n",
        "\n",
        "end_time = time.time()\n",
        "\n",
        "elapsed_time = end_time - start_time\n",
        "print(f\"Elapsed time: {elapsed_time} seconds\")\n",
        "\n",
        "cpu_fps = frame_count / elapsed_time\n",
        "print(f\"Frame rate: {cpu_fps} frames per second\")\n",
        "\n",
        "cpu_accuracy = correct_text_predictions / total_text_predictions\n",
        "print(f\"Accuracy: {cpu_accuracy}\")\n"
      ]
    },
    {
      "cell_type": "code",
      "execution_count": null,
      "metadata": {
        "id": "V3VzUc4R6B0j"
      },
      "outputs": [],
      "source": []
    },
    {
      "cell_type": "markdown",
      "metadata": {
        "id": "REqvWdZF_j31"
      },
      "source": [
        "# Visualization of FPS and accuracy metrics"
      ]
    },
    {
      "cell_type": "code",
      "execution_count": null,
      "metadata": {
        "colab": {
          "base_uri": "https://localhost:8080/",
          "height": 1000
        },
        "id": "ixxj9BlZ_qaz",
        "outputId": "ab941849-5511-4926-91b1-4b85b935c162"
      },
      "outputs": [],
      "source": [
        "import numpy as np\n",
        "import matplotlib.pyplot as plt\n",
        "\n",
        "labels = ['GPU', 'CPU (Frame Skipping)']\n",
        "\n",
        "# FPS Visualization\n",
        "plt.figure(figsize=(10, 6))\n",
        "plt.bar(labels, [gpu_fps, cpu_fps], color='tab:blue', alpha=0.7)\n",
        "plt.xlabel('Model')\n",
        "plt.ylabel('FPS')\n",
        "plt.title('FPS Comparison: GPU vs CPU (Frame Skipping)')\n",
        "plt.grid(axis='y', linestyle='--', alpha=0.7)\n",
        "plt.tight_layout()\n",
        "plt.show()\n",
        "\n",
        "# Accuracy Visualization\n",
        "plt.figure(figsize=(10, 6))\n",
        "plt.plot(labels, [gpu_accuracy, cpu_accuracy], color='tab:green', marker='o', linewidth=2, label='Accuracy')\n",
        "plt.xlabel('Model')\n",
        "plt.ylabel('Accuracy')\n",
        "plt.title('Accuracy Comparison: GPU vs CPU (Frame Skipping)')\n",
        "plt.grid(True)\n",
        "plt.ylim([0, 1])  \n",
        "plt.tight_layout()\n",
        "plt.legend()\n",
        "plt.show()\n"
      ]
    }
  ],
  "metadata": {
    "accelerator": "GPU",
    "colab": {
      "gpuType": "T4",
      "provenance": []
    },
    "kernelspec": {
      "display_name": "Python 3",
      "name": "python3"
    },
    "language_info": {
      "name": "python"
    }
  },
  "nbformat": 4,
  "nbformat_minor": 0
}
